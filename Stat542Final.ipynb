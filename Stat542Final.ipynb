{
  "nbformat": 4,
  "nbformat_minor": 0,
  "metadata": {
    "colab": {
      "provenance": []
    },
    "kernelspec": {
      "name": "python3",
      "display_name": "Python 3"
    },
    "language_info": {
      "name": "python"
    }
  },
  "cells": [
    {
      "cell_type": "code",
      "execution_count": 22,
      "metadata": {
        "id": "Pxg3gnNuLHfs"
      },
      "outputs": [],
      "source": [
        "import pandas as pd\n",
        "import numpy as np\n",
        "from scipy.sparse import coo_matrix\n",
        "from sklearn.metrics import mean_squared_error\n",
        "import matplotlib.pyplot as plt"
      ]
    },
    {
      "cell_type": "code",
      "source": [
        "data = pd.read_csv('Feedback_original.csv')"
      ],
      "metadata": {
        "id": "-4D8HlvyLING"
      },
      "execution_count": 23,
      "outputs": []
    },
    {
      "cell_type": "code",
      "source": [
        "new_column_names = ['user_id'] + [f'restaurant_{i}' for i in range(1, len(data.columns))]\n",
        "data.columns = new_column_names"
      ],
      "metadata": {
        "id": "QH-tY4z2Lps1"
      },
      "execution_count": 24,
      "outputs": []
    },
    {
      "cell_type": "code",
      "source": [
        "print(data.head())\n",
        "print(data.columns)"
      ],
      "metadata": {
        "id": "qoLGB1WQLttE"
      },
      "execution_count": null,
      "outputs": []
    },
    {
      "cell_type": "code",
      "source": [
        "print(\"\\nDistribution of ratings for each restaurant:\")\n",
        "for column in data.columns[1:]:\n",
        "    plt.figure()\n",
        "    plt.hist(data[column], bins=5, edgecolor='black')\n",
        "    plt.title(f'Distribution of Ratings for {column}')\n",
        "    plt.xlabel('Rating')\n",
        "    plt.ylabel('Frequency')\n",
        "    plt.show()"
      ],
      "metadata": {
        "id": "V_BDxrUMYXD0"
      },
      "execution_count": null,
      "outputs": []
    },
    {
      "cell_type": "code",
      "source": [
        "users = list(range(len(data)))\n",
        "## Exclude 'user_id'\n",
        "restaurants = new_column_names[1:]"
      ],
      "metadata": {
        "id": "n_E146caLyP9"
      },
      "execution_count": 30,
      "outputs": []
    },
    {
      "cell_type": "code",
      "source": [
        "# Build a list of tuples: (user, restaurant, rating)\n",
        "ratings_list = []\n",
        "for user in users:\n",
        "    for restaurant in restaurants:\n",
        "        rating = data.loc[user, restaurant]\n",
        "        if pd.notna(rating):\n",
        "            ratings_list.append((user, restaurants.index(restaurant), rating))\n",
        "\n",
        "# Convert list to COO matrix\n",
        "row_indices, col_indices, ratings = zip(*ratings_list)\n",
        "rating_matrix = coo_matrix((ratings, (row_indices, col_indices)), shape=(len(users), len(restaurants))).toarray()"
      ],
      "metadata": {
        "id": "0sua02LwL3Vd"
      },
      "execution_count": 32,
      "outputs": []
    },
    {
      "cell_type": "code",
      "source": [
        "# ALS parameters\n",
        "num_factors = 8  # Number of latent factors\n",
        "num_iterations = 50  # Number of iterations\n",
        "reg_param = 0.2  # Regularization parameter\n",
        "tol = 1e-4\n",
        "\n",
        "# ALS function with convergence criteria\n",
        "def als_train(matrix, num_factors, num_iterations, reg_param, tol=1e-4):\n",
        "    num_users, num_items = matrix.shape\n",
        "    user_factors = np.random.normal(scale=1. / num_factors, size=(num_users, num_factors))\n",
        "    item_factors = np.random.normal(scale=1. / num_factors, size=(num_items, num_factors))\n",
        "    last_rmse = None\n",
        "\n",
        "    for iteration in range(num_iterations):\n",
        "        # Update user factors\n",
        "        for u in range(num_users):\n",
        "            relevant_items = matrix[u, :] > 0\n",
        "            A = item_factors[relevant_items, :]\n",
        "            V = matrix[u, relevant_items]\n",
        "            user_factors[u, :] = np.linalg.solve(A.T @ A + reg_param * np.eye(num_factors), A.T @ V)\n",
        "\n",
        "        # Update item factors\n",
        "        for i in range(num_items):\n",
        "            relevant_users = matrix[:, i] > 0\n",
        "            A = user_factors[relevant_users, :]\n",
        "            V = matrix[relevant_users, i]\n",
        "            item_factors[i, :] = np.linalg.solve(A.T @ A + reg_param * np.eye(num_factors), A.T @ V)\n",
        "\n",
        "        # Compute RMSE to check for convergence\n",
        "        predicted_ratings = predict(user_factors, item_factors)\n",
        "        mask = matrix > 0\n",
        "        current_rmse = np.sqrt(mean_squared_error(matrix[mask], predicted_ratings[mask]))\n",
        "        print(f\"Iteration {iteration + 1}: RMSE = {current_rmse:.4f}\")\n",
        "\n",
        "        # Check for convergence\n",
        "        if last_rmse and abs(last_rmse - current_rmse) < tol:\n",
        "            print(f\"Converged at iteration {iteration + 1}\")\n",
        "            break\n",
        "        last_rmse = current_rmse\n",
        "\n",
        "    return user_factors, item_factors\n",
        "\n",
        "# Prediction function\n",
        "def predict(user_factors, item_factors):\n",
        "    return user_factors @ item_factors.T\n",
        "\n",
        "# Train the model\n",
        "user_factors, item_factors = als_train(rating_matrix, num_factors, num_iterations, reg_param, tol)\n",
        "\n",
        "# Predict the ratings\n",
        "predicted_ratings = predict(user_factors, item_factors)\n",
        "\n",
        "# Calculate RMSE on known ratings\n",
        "mask = rating_matrix > 0\n",
        "rmse = np.sqrt(mean_squared_error(rating_matrix[mask], predicted_ratings[mask]))\n",
        "print(f'Final RMSE on known ratings: {rmse:.4f}')"
      ],
      "metadata": {
        "colab": {
          "base_uri": "https://localhost:8080/"
        },
        "id": "7IOE7YMwN4xV",
        "outputId": "169b2580-996d-4ae5-f989-6806ab07953f"
      },
      "execution_count": 33,
      "outputs": [
        {
          "output_type": "stream",
          "name": "stdout",
          "text": [
            "Iteration 1: RMSE = 0.5400\n",
            "Iteration 2: RMSE = 0.4541\n",
            "Iteration 3: RMSE = 0.4313\n",
            "Iteration 4: RMSE = 0.4195\n",
            "Iteration 5: RMSE = 0.4136\n",
            "Iteration 6: RMSE = 0.4100\n",
            "Iteration 7: RMSE = 0.4075\n",
            "Iteration 8: RMSE = 0.4055\n",
            "Iteration 9: RMSE = 0.4039\n",
            "Iteration 10: RMSE = 0.4027\n",
            "Iteration 11: RMSE = 0.4018\n",
            "Iteration 12: RMSE = 0.4011\n",
            "Iteration 13: RMSE = 0.4007\n",
            "Iteration 14: RMSE = 0.4004\n",
            "Iteration 15: RMSE = 0.4002\n",
            "Iteration 16: RMSE = 0.4000\n",
            "Iteration 17: RMSE = 0.3999\n",
            "Iteration 18: RMSE = 0.3999\n",
            "Converged at iteration 18\n",
            "Final RMSE on known ratings: 0.3999\n"
          ]
        }
      ]
    },
    {
      "cell_type": "code",
      "source": [
        "import numpy as np\n",
        "from sklearn.metrics import mean_squared_error\n",
        "from sklearn.neighbors import NearestNeighbors"
      ],
      "metadata": {
        "id": "wkRwhH3KPrhy"
      },
      "execution_count": 34,
      "outputs": []
    },
    {
      "cell_type": "code",
      "source": [
        "# Define global mean and user mean baselines\n",
        "global_mean = np.mean(rating_matrix[rating_matrix > 0])\n",
        "\n",
        "# Global Mean RMSE\n",
        "global_mean_predictions = np.full_like(rating_matrix, global_mean)\n",
        "global_mean_rmse = np.sqrt(mean_squared_error(rating_matrix[rating_matrix > 0], global_mean_predictions[rating_matrix > 0]))\n",
        "\n",
        "# User Mean RMSE\n",
        "user_means = np.array([np.mean(row[row > 0]) if np.any(row > 0) else global_mean for row in rating_matrix])\n",
        "\n",
        "# Initialize an empty user mean predictions matrix\n",
        "user_mean_predictions = np.zeros_like(rating_matrix)\n",
        "for i in range(rating_matrix.shape[0]):\n",
        "    user_mean_predictions[i, rating_matrix[i] > 0] = user_means[i]\n",
        "\n",
        "user_mean_rmse = np.sqrt(mean_squared_error(rating_matrix[rating_matrix > 0], user_mean_predictions[rating_matrix > 0]))\n",
        "print(f'Global Mean RMSE: {global_mean_rmse:.4f}')\n",
        "print(f'User Mean RMSE: {user_mean_rmse:.4f}')\n"
      ],
      "metadata": {
        "colab": {
          "base_uri": "https://localhost:8080/"
        },
        "id": "zeG59m8hPuI9",
        "outputId": "1810097c-3e9c-4685-a25a-a1db846d03ef"
      },
      "execution_count": 35,
      "outputs": [
        {
          "output_type": "stream",
          "name": "stdout",
          "text": [
            "Global Mean RMSE: 1.2231\n",
            "User Mean RMSE: 1.0623\n"
          ]
        }
      ]
    },
    {
      "cell_type": "code",
      "source": [
        "#KNN\n",
        "def knn_predictions(rating_matrix, k):\n",
        "    knn = NearestNeighbors(metric='cosine', algorithm='brute', n_neighbors=k, n_jobs=-1)\n",
        "    knn.fit(rating_matrix)\n",
        "    distances, indices = knn.kneighbors(rating_matrix)\n",
        "\n",
        "    knn_predictions = np.zeros(rating_matrix.shape)\n",
        "    for i in range(rating_matrix.shape[0]):\n",
        "        dist = distances[i]\n",
        "        weights = np.array([1/d if d > 0 else 0 for d in dist])\n",
        "        norm = np.sum(weights)\n",
        "        neighbors = indices[i]\n",
        "\n",
        "        neighbor_ratings = rating_matrix[neighbors, :]\n",
        "        weighted_ratings = (weights[:, np.newaxis] * neighbor_ratings).sum(axis=0)\n",
        "        knn_predictions[i] = weighted_ratings / norm if norm > 0 else 0\n",
        "\n",
        "    return knn_predictions\n",
        "\n",
        "# Function to compute RMSE for a given k\n",
        "def compute_rmse(rating_matrix, k):\n",
        "    knn_pred = knn_predictions(rating_matrix, k)\n",
        "    return np.sqrt(mean_squared_error(rating_matrix[rating_matrix > 0], knn_pred[rating_matrix > 0]))\n",
        "\n",
        "# Range of k values to test\n",
        "k_values = [1, 3, 5, 7, 10]\n",
        "\n",
        "# Compute RMSE for each k and store the results\n",
        "rmse_results = []\n",
        "for k in k_values:\n",
        "    rmse = compute_rmse(rating_matrix, k)\n",
        "    rmse_results.append((k, rmse))\n",
        "\n",
        "# Find the best k value with the lowest RMSE\n",
        "best_k, best_rmse = min(rmse_results, key=lambda x: x[1])\n",
        "\n",
        "print(f\"Best k value: {best_k}, RMSE: {best_rmse}\")"
      ],
      "metadata": {
        "colab": {
          "base_uri": "https://localhost:8080/"
        },
        "id": "M1IqDDujVlQ_",
        "outputId": "bf223187-861d-4e7e-fe2d-daffe19d6041"
      },
      "execution_count": 37,
      "outputs": [
        {
          "output_type": "stream",
          "name": "stdout",
          "text": [
            "Best k value: 10, RMSE: 1.0273378569666962\n"
          ]
        }
      ]
    },
    {
      "cell_type": "code",
      "source": [
        "from sklearn.cluster import KMeans"
      ],
      "metadata": {
        "id": "R7Ag-VsJ-h0W"
      },
      "execution_count": 40,
      "outputs": []
    },
    {
      "cell_type": "code",
      "source": [
        "#Kmeans\n",
        "def kmeans_predictions(rating_matrix, n_clusters):\n",
        "    kmeans = KMeans(n_clusters=n_clusters, random_state=42)\n",
        "    user_clusters = kmeans.fit_predict(rating_matrix)\n",
        "\n",
        "    # Initialize the predictions matrix\n",
        "    predictions = np.zeros(rating_matrix.shape)\n",
        "\n",
        "    # Calculate the mean ratings per cluster\n",
        "    for cluster in range(n_clusters):\n",
        "        cluster_indices = np.where(user_clusters == cluster)[0]\n",
        "        cluster_mean = rating_matrix[cluster_indices].mean(axis=0)\n",
        "\n",
        "        # Assign the cluster's mean ratings to all users in the cluster\n",
        "        predictions[cluster_indices, :] = cluster_mean\n",
        "\n",
        "    return predictions\n",
        "\n",
        "# compute RMSE for different cluster counts\n",
        "def compute_rmse_kmeans(rating_matrix, n_clusters):\n",
        "    kmeans_pred = kmeans_predictions(rating_matrix, n_clusters)\n",
        "    return np.sqrt(mean_squared_error(rating_matrix[rating_matrix > 0], kmeans_pred[rating_matrix > 0]))\n",
        "\n",
        "# Range of cluster values to test\n",
        "cluster_values = [2, 3, 5, 7, 10]\n",
        "\n",
        "# Compute RMSE for each cluster count and store the results\n",
        "rmse_results = []\n",
        "for n_clusters in cluster_values:\n",
        "    rmse = compute_rmse_kmeans(rating_matrix, n_clusters)\n",
        "    rmse_results.append((n_clusters, rmse))\n",
        "\n",
        "# Find the best cluster value with the lowest RMSE\n",
        "best_clusters, best_rmse = min(rmse_results, key=lambda x: x[1])\n",
        "\n",
        "print(f\"Best cluster count: {best_clusters}, RMSE: {best_rmse}\")"
      ],
      "metadata": {
        "colab": {
          "base_uri": "https://localhost:8080/"
        },
        "id": "nfo29QrX-dL2",
        "outputId": "016d4891-b357-409c-86a8-15e284408edd"
      },
      "execution_count": 41,
      "outputs": [
        {
          "output_type": "stream",
          "name": "stdout",
          "text": [
            "Best cluster count: 10, RMSE: 0.7110804923572833\n"
          ]
        },
        {
          "output_type": "stream",
          "name": "stderr",
          "text": [
            "/usr/local/lib/python3.10/dist-packages/sklearn/cluster/_kmeans.py:870: FutureWarning: The default value of `n_init` will change from 10 to 'auto' in 1.4. Set the value of `n_init` explicitly to suppress the warning\n",
            "  warnings.warn(\n",
            "/usr/local/lib/python3.10/dist-packages/sklearn/cluster/_kmeans.py:870: FutureWarning: The default value of `n_init` will change from 10 to 'auto' in 1.4. Set the value of `n_init` explicitly to suppress the warning\n",
            "  warnings.warn(\n",
            "/usr/local/lib/python3.10/dist-packages/sklearn/cluster/_kmeans.py:870: FutureWarning: The default value of `n_init` will change from 10 to 'auto' in 1.4. Set the value of `n_init` explicitly to suppress the warning\n",
            "  warnings.warn(\n",
            "/usr/local/lib/python3.10/dist-packages/sklearn/cluster/_kmeans.py:870: FutureWarning: The default value of `n_init` will change from 10 to 'auto' in 1.4. Set the value of `n_init` explicitly to suppress the warning\n",
            "  warnings.warn(\n",
            "/usr/local/lib/python3.10/dist-packages/sklearn/cluster/_kmeans.py:870: FutureWarning: The default value of `n_init` will change from 10 to 'auto' in 1.4. Set the value of `n_init` explicitly to suppress the warning\n",
            "  warnings.warn(\n"
          ]
        }
      ]
    }
  ]
}